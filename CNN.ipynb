{
 "cells": [
  {
   "cell_type": "code",
   "execution_count": null,
   "source": [
    "import tensorflow as tf\r\n",
    "from scipy.io import loadmat\r\n",
    "\r\n",
    "import numpy as np\r\n",
    "from tensorflow.keras.models import Sequential\r\n",
    "from tensorflow.keras.layers import Dense, Flatten, Conv2D, MaxPooling2D, BatchNormalization, Dropout\r\n",
    "from tensorflow.keras.callbacks import ModelCheckpoint, EarlyStopping\r\n",
    "from tensorflow.keras import regularizers\r\n",
    "\r\n",
    "import matplotlib.pyplot as plt\r\n",
    "%matplotlib inline\r\n",
    "\r\n",
    "earlystopping = EarlyStopping(monitor='val_acc',patience=3,min_delta=0.001,verbose=1)\r\n",
    "checkpoint_CNN = ModelCheckpoint(filepath='checkpoints_best_only_CNN/checkpoint',\r\n",
    "                                 save_freq='epoch',monitor='val_acc',save_best_only=True,save_weights_only=True,verbose=1)\r\n",
    "def CNN():\r\n",
    "    model = Sequential([\r\n",
    "        Conv2D(32, kernel_size=3, activation='relu', padding='SAME'),\r\n",
    "        BatchNormalization(),\r\n",
    "        Conv2D(32, kernel_size=3, activation='relu', padding='SAME'),\r\n",
    "        BatchNormalization(),\r\n",
    "        MaxPooling2D(2),\r\n",
    "        Dropout(0.3),\r\n",
    "        Flatten(),\r\n",
    "        Dense(32, activation='relu',kernel_regularizer=regularizers.l2(1e-5)),\r\n",
    "        Dropout(0.3),\r\n",
    "        Dense(10, activation='softmax')])\r\n",
    "    model.compile(optimizer='adam',loss='sparse_categorical_crossentropy',metrics=['acc'])\r\n",
    "    return model\r\n",
    "\r\n",
    "model = CNN()\r\n",
    "history = model.fit(scaled_train_img,train_label,epochs=15,validation_split=0.2,verbose=1,callbacks=[earlystopping,checkpoint_CNN])"
   ],
   "outputs": [],
   "metadata": {}
  },
  {
   "cell_type": "code",
   "execution_count": null,
   "source": [
    "plt.plot(history.history['loss'])\r\n",
    "plt.plot(history.history['val_loss'])\r\n",
    "plt.title('Loss vs. epochs')\r\n",
    "plt.ylabel('Loss')\r\n",
    "plt.xlabel('Epoch')\r\n",
    "plt.legend(['Training', 'Validation'], loc='upper right')\r\n",
    "plt.show()"
   ],
   "outputs": [],
   "metadata": {}
  },
  {
   "cell_type": "code",
   "execution_count": null,
   "source": [
    "plt.plot(history.history['acc'])\r\n",
    "plt.plot(history.history['val_acc'])\r\n",
    "plt.title('Accuracy vs. epochs')\r\n",
    "plt.ylabel('Accuracy')\r\n",
    "plt.xlabel('Epoch')\r\n",
    "plt.legend(['Training', 'Validation'], loc='upper right')\r\n",
    "plt.show()"
   ],
   "outputs": [],
   "metadata": {}
  },
  {
   "cell_type": "code",
   "execution_count": null,
   "source": [
    "test_loss, test_accuracy = model.evaluate(scaled_test_img, test_label, verbose=0)\r\n",
    "print(f\"Test loss: {test_loss}\")\r\n",
    "print(f\"Test accuracy: {test_accuracy}\")"
   ],
   "outputs": [],
   "metadata": {}
  },
  {
   "cell_type": "code",
   "execution_count": null,
   "source": [
    "model = CNN()\r\n",
    "model.load_weights('checkpoints_best_only_CNN/checkpoint')"
   ],
   "outputs": [],
   "metadata": {}
  }
 ],
 "metadata": {
  "orig_nbformat": 4,
  "language_info": {
   "name": "python"
  }
 },
 "nbformat": 4,
 "nbformat_minor": 2
}